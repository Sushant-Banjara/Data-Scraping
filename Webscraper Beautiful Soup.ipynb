{
 "cells": [
  {
   "cell_type": "markdown",
   "metadata": {},
   "source": [
    "# Web Scraping Using BeautifulSoup"
   ]
  },
  {
   "cell_type": "markdown",
   "metadata": {},
   "source": [
    "In the first part  we explore the basics of webscraping and beautifulSoup"
   ]
  },
  {
   "cell_type": "code",
   "execution_count": 177,
   "metadata": {},
   "outputs": [],
   "source": [
    "import requests\n",
    "from bs4 import BeautifulSoup\n",
    "import pandas as pd"
   ]
  },
  {
   "cell_type": "code",
   "execution_count": 178,
   "metadata": {},
   "outputs": [
    {
     "name": "stdout",
     "output_type": "stream",
     "text": [
      "200\n",
      "{'Content-Type': 'text/html; charset=UTF-8', 'Accept-Ranges': 'bytes', 'Vary': 'Accept-Encoding', 'Content-Encoding': 'gzip', 'Date': 'Thu, 02 May 2019 17:38:09 GMT', 'Content-Length': '13464', 'Connection': 'keep-alive', 'Strict-Transport-Security': 'max-age=31536000 ; includeSubDomains ; preload', 'X-Frame-Options': 'SAMEORIGIN'}\n"
     ]
    }
   ],
   "source": [
    "#attempt access to website and print the status code to check if thepage is accessed\n",
    "#code 200 means the page is accessed\n",
    "access = requests.get('https://www.whitehouse.gov/briefings-statements/')\n",
    "print(access.status_code)\n",
    "\n",
    "#Print the headers of the website\n",
    "print(access.headers)"
   ]
  },
  {
   "cell_type": "code",
   "execution_count": 183,
   "metadata": {},
   "outputs": [],
   "source": [
    "#access the content of the page\n",
    "source = access.content\n",
    "\n",
    "#Pass the content through beautiful soup making a soup object\n",
    "soup = BeautifulSoup(source, 'lxml')\n",
    "\n",
    "#Extract all the html <a> tags\n",
    "links = soup.find_all('a')"
   ]
  },
  {
   "cell_type": "markdown",
   "metadata": {},
   "source": [
    "Find all the h2 (heading 2) tags in the webpage. Aaccess the a (hyperlink) tag within the the headings. Get the href object (destination url in the hyperlink). Append to a list"
   ]
  },
  {
   "cell_type": "code",
   "execution_count": 182,
   "metadata": {},
   "outputs": [
    {
     "data": {
      "text/plain": [
       "['https://www.whitehouse.gov/briefings-statements/president-donald-j-trump-strengthening-americas-cybersecurity-workforce-secure-nation-promote-prosperity/',\n",
       " 'https://www.whitehouse.gov/briefings-statements/remarks-vice-president-pence-national-day-prayer-service/',\n",
       " 'https://www.whitehouse.gov/briefings-statements/text-letter-president-selected-congressional-committee-leadership-regarding-defense-spending-nato-members/',\n",
       " 'https://www.whitehouse.gov/briefings-statements/president-donald-j-trump-approves-california-disaster-declaration-5/',\n",
       " 'https://www.whitehouse.gov/briefings-statements/president-donald-j-trump-stands-democracy-venezuela/',\n",
       " 'https://www.whitehouse.gov/briefings-statements/remarks-vice-president-pence-meeting-ice-baltimore-field-office-leadership/',\n",
       " 'https://www.whitehouse.gov/briefings-statements/remarks-vice-president-pence-hispanic-american-police-command-officers-association-aguila-awards-luncheon-baltimore-md/',\n",
       " 'https://www.whitehouse.gov/briefings-statements/president-donald-j-trump-calling-congress-provide-resources-respond-humanitarian-crisis-border/',\n",
       " 'https://www.whitehouse.gov/briefings-statements/remarks-by-president-trump-welcoming-the-2018-nascar-cup-series-champion-joey-logano/',\n",
       " 'https://www.whitehouse.gov/briefings-statements/remarks-vice-president-pence-crew-members-uss-harry-s-truman-norfolk-va/']"
      ]
     },
     "execution_count": 182,
     "metadata": {},
     "output_type": "execute_result"
    }
   ],
   "source": [
    "urls = []\n",
    "for h2_tag in soup.find_all('h2'):\n",
    "    a_tag = h2_tag.find('a')\n",
    "    urls.append(a_tag.attrs['href'])\n",
    "\n",
    "#Print the URLS    \n",
    "urls"
   ]
  },
  {
   "cell_type": "code",
   "execution_count": 189,
   "metadata": {},
   "outputs": [],
   "source": [
    "#go to one of the links in the list\n",
    "access = requests.get(urls[2])"
   ]
  },
  {
   "cell_type": "code",
   "execution_count": 190,
   "metadata": {},
   "outputs": [
    {
     "name": "stdout",
     "output_type": "stream",
     "text": [
      "200\n",
      "{'Content-Type': 'text/html; charset=UTF-8', 'Accept-Ranges': 'bytes', 'Vary': 'Accept-Encoding', 'Content-Encoding': 'gzip', 'Date': 'Thu, 02 May 2019 17:44:01 GMT', 'Content-Length': '13478', 'Connection': 'keep-alive', 'Strict-Transport-Security': 'max-age=31536000 ; includeSubDomains ; preload', 'X-Frame-Options': 'SAMEORIGIN'}\n"
     ]
    }
   ],
   "source": [
    "print(access.status_code)\n",
    "print(access.headers)\n",
    "source = access.content"
   ]
  },
  {
   "cell_type": "code",
   "execution_count": 191,
   "metadata": {},
   "outputs": [
    {
     "name": "stdout",
     "output_type": "stream",
     "text": [
      "<title>Text of a Letter from the President to Selected Congressional Committee Leadership Regarding Defense Spending by NATO Members | The White House</title>\n"
     ]
    }
   ],
   "source": [
    "soup = BeautifulSoup(source, 'html.parser')\n",
    "\n",
    "#access the title object in the webpage\n",
    "print(soup.title)"
   ]
  },
  {
   "cell_type": "markdown",
   "metadata": {},
   "source": [
    "# Scraping Data From QZ"
   ]
  },
  {
   "cell_type": "code",
   "execution_count": 157,
   "metadata": {},
   "outputs": [],
   "source": [
    "#Go to the site and create a soup object\n",
    "site = requests.get('https://qz.com/africa/latest/')\n",
    "soup = BeautifulSoup(site.content, 'lxml')\n",
    "\n"
   ]
  },
  {
   "cell_type": "code",
   "execution_count": 158,
   "metadata": {},
   "outputs": [],
   "source": [
    "#Find all the article objects, where the links to articles are nested\n",
    "weblinks=soup.find_all('article')\n",
    "\n",
    "linkx =[]\n",
    "#From the weblinks first extract the a tags and get href, which is the actual destination address of hyperlink\n",
    "for link in weblinks:    \n",
    "      url = link.contents[0].find_all('a')[0]   \n",
    "      linkx.append('http://qz.com'+url.get('href'))"
   ]
  },
  {
   "cell_type": "code",
   "execution_count": 159,
   "metadata": {},
   "outputs": [
    {
     "data": {
      "text/plain": [
       "['http://qz.com/africa/1610723/south-africas-inequality-can-be-fixed-with-a-wealth-tax/',\n",
       " 'http://qz.com/africa/1610649/caster-semenya-ruling-athlete-may-still-challenge-iaaf-regulations/',\n",
       " 'http://qz.com/africa/1610360/caster-semenya-testosterone-too-high-for-female-athlete-iaaf/',\n",
       " 'http://qz.com/africa/1610066/vietnams-rhino-horn-myth-drives-african-poaching/',\n",
       " 'http://qz.com/africa/1609973/somalia-motorycle-hailing-app-go-launched-in-mogadishu/',\n",
       " 'http://qz.com/africa/1609397/rainforest-in-ghana-dr-congo-brazil-colombia-rapidly-depleting/',\n",
       " 'http://qz.com/africa/1609342/vivatech-des-investisseurs-comblent-le-fosse-entre-lafrique-francophone-et-anglophone/',\n",
       " 'http://qz.com/africa/1609532/cancer-immunotherapies-for-africans-can-help-say-scienists/',\n",
       " 'http://qz.com/africa/1608806/reunion-island-tops-airbnb-average-occupancy-in-africa/',\n",
       " 'http://qz.com/africa/1608671/mtn-vodacom-overcharge-poor-south-africans-icasa/']"
      ]
     },
     "execution_count": 159,
     "metadata": {},
     "output_type": "execute_result"
    }
   ],
   "source": [
    "#See the links available\n",
    "link"
   ]
  },
  {
   "cell_type": "markdown",
   "metadata": {},
   "source": [
    "# Go through each link in the article and extract text as well as other relevant Info"
   ]
  },
  {
   "cell_type": "code",
   "execution_count": 168,
   "metadata": {},
   "outputs": [
    {
     "data": {
      "text/html": [
       "<div>\n",
       "<style scoped>\n",
       "    .dataframe tbody tr th:only-of-type {\n",
       "        vertical-align: middle;\n",
       "    }\n",
       "\n",
       "    .dataframe tbody tr th {\n",
       "        vertical-align: top;\n",
       "    }\n",
       "\n",
       "    .dataframe thead th {\n",
       "        text-align: right;\n",
       "    }\n",
       "</style>\n",
       "<table border=\"1\" class=\"dataframe\">\n",
       "  <thead>\n",
       "    <tr style=\"text-align: right;\">\n",
       "      <th></th>\n",
       "      <th>Title</th>\n",
       "      <th>Author</th>\n",
       "      <th>PageLink</th>\n",
       "      <th>Article</th>\n",
       "    </tr>\n",
       "  </thead>\n",
       "  <tbody>\n",
       "    <tr>\n",
       "      <th>0</th>\n",
       "      <td>Economists think South Africa’s persistent ine...</td>\n",
       "      <td>Ingrid Woolard, Stellenbosch University</td>\n",
       "      <td>http://qz.com/africa/1610723/south-africas-ine...</td>\n",
       "      <td>It’s well-established that South Africa has on...</td>\n",
       "    </tr>\n",
       "    <tr>\n",
       "      <th>1</th>\n",
       "      <td>Caster Semenya sees her latest defeat as a sta...</td>\n",
       "      <td>Lynsey Chutel</td>\n",
       "      <td>http://qz.com/africa/1610649/caster-semenya-ru...</td>\n",
       "      <td>Caster Semenya rarely loses, yet her latest de...</td>\n",
       "    </tr>\n",
       "    <tr>\n",
       "      <th>2</th>\n",
       "      <td>How much testosterone is really too much for a...</td>\n",
       "      <td>Daniel Kelly, Sheffield Hallam University</td>\n",
       "      <td>http://qz.com/africa/1610360/caster-semenya-te...</td>\n",
       "      <td>The South African athlete, Caster Semenya, has...</td>\n",
       "    </tr>\n",
       "    <tr>\n",
       "      <th>3</th>\n",
       "      <td>What the Vietnamese really believe about rhino...</td>\n",
       "      <td>Vu Hoai Nam Dang, University of Copenhagen</td>\n",
       "      <td>http://qz.com/africa/1610066/vietnams-rhino-ho...</td>\n",
       "      <td>Vietnam is one of the world’s largest consumer...</td>\n",
       "    </tr>\n",
       "    <tr>\n",
       "      <th>4</th>\n",
       "      <td>Mogadishu now has its first motorcycle hailing...</td>\n",
       "      <td>Abdi Latif Dahir</td>\n",
       "      <td>http://qz.com/africa/1609973/somalia-motorycle...</td>\n",
       "      <td>You can now hail a motorcycle service in the S...</td>\n",
       "    </tr>\n",
       "    <tr>\n",
       "      <th>5</th>\n",
       "      <td>Ghana is losing its rainforest faster than any...</td>\n",
       "      <td>Kwasi Gyamfi Asiedu</td>\n",
       "      <td>http://qz.com/africa/1609397/rainforest-in-gha...</td>\n",
       "      <td>Ghana’s rainforest is being lost at an alarmin...</td>\n",
       "    </tr>\n",
       "    <tr>\n",
       "      <th>6</th>\n",
       "      <td>Des investisseurs providentiels comblent le fo...</td>\n",
       "      <td>Yomi Kazeem</td>\n",
       "      <td>http://qz.com/africa/1609342/vivatech-des-inve...</td>\n",
       "      <td>Les start-ups opérant en Afrique ont fait l’ob...</td>\n",
       "    </tr>\n",
       "    <tr>\n",
       "      <th>7</th>\n",
       "      <td>These scientists are developing immunotherapie...</td>\n",
       "      <td>Neelakshi Mungra, University of Cape Town</td>\n",
       "      <td>http://qz.com/africa/1609532/cancer-immunother...</td>\n",
       "      <td>The exorbitant costs of cancer drugs make it d...</td>\n",
       "    </tr>\n",
       "    <tr>\n",
       "      <th>8</th>\n",
       "      <td>This tropical getaway has Airbnb’s top occupie...</td>\n",
       "      <td>Abdi Latif Dahir</td>\n",
       "      <td>http://qz.com/africa/1608806/reunion-island-to...</td>\n",
       "      <td>When it comes to Airbnb occupancy rates in Afr...</td>\n",
       "    </tr>\n",
       "    <tr>\n",
       "      <th>9</th>\n",
       "      <td>Two of Africa’s biggest telcos have expanded a...</td>\n",
       "      <td>Lynsey Chutel</td>\n",
       "      <td>http://qz.com/africa/1608671/mtn-vodacom-overc...</td>\n",
       "      <td>Vodacom and MTN used South Africa as a springb...</td>\n",
       "    </tr>\n",
       "  </tbody>\n",
       "</table>\n",
       "</div>"
      ],
      "text/plain": [
       "                                               Title  \\\n",
       "0  Economists think South Africa’s persistent ine...   \n",
       "1  Caster Semenya sees her latest defeat as a sta...   \n",
       "2  How much testosterone is really too much for a...   \n",
       "3  What the Vietnamese really believe about rhino...   \n",
       "4  Mogadishu now has its first motorcycle hailing...   \n",
       "5  Ghana is losing its rainforest faster than any...   \n",
       "6  Des investisseurs providentiels comblent le fo...   \n",
       "7  These scientists are developing immunotherapie...   \n",
       "8  This tropical getaway has Airbnb’s top occupie...   \n",
       "9  Two of Africa’s biggest telcos have expanded a...   \n",
       "\n",
       "                                       Author  \\\n",
       "0     Ingrid Woolard, Stellenbosch University   \n",
       "1                               Lynsey Chutel   \n",
       "2   Daniel Kelly, Sheffield Hallam University   \n",
       "3  Vu Hoai Nam Dang, University of Copenhagen   \n",
       "4                            Abdi Latif Dahir   \n",
       "5                         Kwasi Gyamfi Asiedu   \n",
       "6                                 Yomi Kazeem   \n",
       "7   Neelakshi Mungra, University of Cape Town   \n",
       "8                            Abdi Latif Dahir   \n",
       "9                               Lynsey Chutel   \n",
       "\n",
       "                                            PageLink  \\\n",
       "0  http://qz.com/africa/1610723/south-africas-ine...   \n",
       "1  http://qz.com/africa/1610649/caster-semenya-ru...   \n",
       "2  http://qz.com/africa/1610360/caster-semenya-te...   \n",
       "3  http://qz.com/africa/1610066/vietnams-rhino-ho...   \n",
       "4  http://qz.com/africa/1609973/somalia-motorycle...   \n",
       "5  http://qz.com/africa/1609397/rainforest-in-gha...   \n",
       "6  http://qz.com/africa/1609342/vivatech-des-inve...   \n",
       "7  http://qz.com/africa/1609532/cancer-immunother...   \n",
       "8  http://qz.com/africa/1608806/reunion-island-to...   \n",
       "9  http://qz.com/africa/1608671/mtn-vodacom-overc...   \n",
       "\n",
       "                                             Article  \n",
       "0  It’s well-established that South Africa has on...  \n",
       "1  Caster Semenya rarely loses, yet her latest de...  \n",
       "2  The South African athlete, Caster Semenya, has...  \n",
       "3  Vietnam is one of the world’s largest consumer...  \n",
       "4  You can now hail a motorcycle service in the S...  \n",
       "5  Ghana’s rainforest is being lost at an alarmin...  \n",
       "6  Les start-ups opérant en Afrique ont fait l’ob...  \n",
       "7  The exorbitant costs of cancer drugs make it d...  \n",
       "8  When it comes to Airbnb occupancy rates in Afr...  \n",
       "9  Vodacom and MTN used South Africa as a springb...  "
      ]
     },
     "execution_count": 168,
     "metadata": {},
     "output_type": "execute_result"
    }
   ],
   "source": [
    "#Create list for storing author's name, title of the article, and the text of the article\n",
    "author= []\n",
    "title = []\n",
    "thearticle=[]\n",
    "\n",
    "for link in linkx:\n",
    "    #create array for storing text of each article\n",
    "    paragraphtext = []\n",
    "    page = requests.get(link)\n",
    "    soup = BeautifulSoup(page.content, 'lxml')\n",
    "    #Get the name of the author\n",
    "    try:\n",
    "        auth= soup.find(class_='d3284 africa').find('a')\n",
    "        authname= auth.get_text()\n",
    "    except:\n",
    "        authname = 'Anon'\n",
    "    #get the title of the article\n",
    "    title_ = soup.find(class_=\"_21349 africa none _4ca8e\")\n",
    "    thetitle_ = title_.get_text()\n",
    "    #get the main body of article text\n",
    "    article = soup.find(class_='_61c55')\n",
    "    #find all p tags, i.e. paragraphs\n",
    "    para = article.find_all('p')\n",
    "    \n",
    "    #from each paragraph, get the text only, remove the last paragraph(advertisement)\n",
    "    for paragraph in para[:-1]:\n",
    "        text = paragraph.get_text()\n",
    "        paragraphtext.append(text)\n",
    "    \n",
    "    #Print paragraph text to see everything works well\n",
    "    #print(paragraphtext)\n",
    "    \n",
    "    #combine all paragraphs of each article to one article and do same for other variable\n",
    "    thearticle.append(paragraphtext)\n",
    "    title.append(thetitle_)\n",
    "    author.append(authname)\n",
    "    \n",
    "#Join all the elements of each article to a single string using space as a separator ' '\n",
    "articles = [''.join (article) for article in thearticle]\n",
    "#print(articles)\n",
    "    \n",
    "#Save the article to data file using Pandas\n",
    "data = {'Title':title, \n",
    "    'Author':author, \n",
    "    'PageLink':linkx, \n",
    "    'Article':articles}\n",
    "\n",
    "data\n",
    "\n",
    "news = pd.DataFrame(data=data)\n",
    "cols = ['Title', 'Author', 'PageLink', 'Article']\n",
    "news = news[cols]\n",
    "\n",
    "news\n",
    "    "
   ]
  },
  {
   "cell_type": "markdown",
   "metadata": {},
   "source": [
    "You can save the above data frame to csv using pd.DataFrame.to_csv()"
   ]
  }
 ],
 "metadata": {
  "kernelspec": {
   "display_name": "Python 3",
   "language": "python",
   "name": "python3"
  },
  "language_info": {
   "codemirror_mode": {
    "name": "ipython",
    "version": 3
   },
   "file_extension": ".py",
   "mimetype": "text/x-python",
   "name": "python",
   "nbconvert_exporter": "python",
   "pygments_lexer": "ipython3",
   "version": "3.6.5"
  }
 },
 "nbformat": 4,
 "nbformat_minor": 2
}
